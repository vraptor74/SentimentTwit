{
 "cells": [
  {
   "cell_type": "code",
   "execution_count": 1,
   "metadata": {},
   "outputs": [],
   "source": [
    "import pandas as pd\n",
    "import numpy as np\n",
    "\n",
    "# Считываем данные\n",
    "dataneg = pd.read_csv('negative.csv', header = None, sep=';', comment='#')\n",
    "datapos = pd.read_csv('positive.csv', header = None, sep=';', comment='#')"
   ]
  },
  {
   "cell_type": "code",
   "execution_count": 2,
   "metadata": {},
   "outputs": [],
   "source": [
    "n = ['id', 'date', 'name', 'text', 'typr', 'rep', 'rtw', 'faw', 'stcount', 'foll', 'frien', 'listcount']\n",
    "data_positive = pd.read_csv('positive.csv', sep=';', error_bad_lines=False, names=n, usecols=['text'])\n",
    "data_negative = pd.read_csv('negative.csv', sep=';', error_bad_lines=False, names=n, usecols=['text'])\n",
    "\n",
    "sample_size = min(data_positive.shape[0], data_negative.shape[0])#Делаем одинаковое количество негативынх и позиитвных твитов\n",
    "raw_data = np.concatenate((data_positive['text'].values[:sample_size],#Соединяем\n",
    "                           data_negative['text'].values[:sample_size]), axis=0)\n",
    "labels = [1] * sample_size + [0] * sample_size"
   ]
  },
  {
   "cell_type": "code",
   "execution_count": 3,
   "metadata": {},
   "outputs": [],
   "source": [
    "def replaceemoji_text(text):# Заменяем смайлы\n",
    "    text = text.replace (\":D\",\" улыбка\")\n",
    "    text = text.replace (\":-D\",\" улыбка\")\n",
    "    text = text.replace (\"=)\",\" улыбка\")\n",
    "    text = text.replace (\":)\",\" улыбка\")\n",
    "    text = text.replace (\":-)\",\" улыбка\")\n",
    "    text = text.replace (\";)\",\" улыбка\")\n",
    "    text = text.replace (\":(\",\" грусть\")\n",
    "    text = text.replace (\":|\",\" недоумение\")\n",
    "    text = text.replace (\":-(\",\" грусть\")\n",
    "    text = text.replace (\":*\",\" улыбка\")\n",
    "    text = text.replace (\"%)\",\" удивление\")\n",
    "    return text.strip()\n",
    "raw_data = [replaceemoji_text(t) for t in raw_data]"
   ]
  },
  {
   "cell_type": "code",
   "execution_count": 4,
   "metadata": {},
   "outputs": [],
   "source": [
    "import re\n",
    "\n",
    "\n",
    "def ReplaceTreeorMore(text):# Если в слове больше двух одинаковых букв, идущих подрядл, меняем на две одинаковые буквы\n",
    "    pattern = re.compile(r\"(.)\\1{2,}\", re.DOTALL)\n",
    "    return pattern.sub(r\"\\1\\1\", text)\n",
    "raw_data = [ReplaceTreeorMore(t) for t in raw_data]"
   ]
  },
  {
   "cell_type": "code",
   "execution_count": 5,
   "metadata": {},
   "outputs": [],
   "source": [
    "import re\n",
    "\n",
    "def preprocess_text(text):\n",
    "    text = text.lower().replace(\"ё\", \"е\")# Меняем ё на е\n",
    "    text = re.sub('((www\\.[^\\s]+)|(https?://[^\\s]+))', 'URL', text)# Меняем ссылки на URL\n",
    "    text = re.sub('@[^\\s]+', 'USER', text)# Пользователя на User\n",
    "    text = re.sub('[^a-zA-Zа-яА-Я1-9]+', ' ', text)# Убираес все прочие занки кроме букв и цифр\n",
    "    text = re.sub(' +', ' ', text)\n",
    "    return text.strip()\n",
    "\n",
    "\n",
    "raw_data = [preprocess_text(t) for t in raw_data]"
   ]
  },
  {
   "cell_type": "code",
   "execution_count": 6,
   "metadata": {},
   "outputs": [],
   "source": [
    "from sklearn.model_selection import train_test_split\n",
    "\n",
    "x_train, x_test, y_train, y_test = train_test_split(raw_data, labels, test_size=0.2, random_state=2)"
   ]
  },
  {
   "cell_type": "code",
   "execution_count": 7,
   "metadata": {},
   "outputs": [
    {
     "name": "stderr",
     "output_type": "stream",
     "text": [
      "Using TensorFlow backend.\n"
     ]
    }
   ],
   "source": [
    "from keras import backend as K\n",
    "\n",
    "\n",
    "def precision(y_true, y_pred):\n",
    "    \"\"\"Precision metric.\n",
    "\n",
    "    Only computes a batch-wise average of precision.\n",
    "\n",
    "    Computes the precision, a metric for multi-label classification of\n",
    "    how many selected items are relevant.\n",
    "    \"\"\"\n",
    "    true_positives = K.sum(K.round(K.clip(y_true * y_pred, 0, 1)))\n",
    "    predicted_positives = K.sum(K.round(K.clip(y_pred, 0, 1)))\n",
    "    precision = true_positives / (predicted_positives + K.epsilon())\n",
    "    return precision\n",
    "\n",
    "\n",
    "def recall(y_true, y_pred):\n",
    "    \"\"\"Recall metric.\n",
    "\n",
    "    Only computes a batch-wise average of recall.\n",
    "\n",
    "    Computes the recall, a metric for multi-label classification of\n",
    "    how many relevant items are selected.\n",
    "    \"\"\"\n",
    "    true_positives = K.sum(K.round(K.clip(y_true * y_pred, 0, 1)))\n",
    "    possible_positives = K.sum(K.round(K.clip(y_true, 0, 1)))\n",
    "    recall = true_positives / (possible_positives + K.epsilon())\n",
    "    return recall\n",
    "\n",
    "\n",
    "def f1(y_true, y_pred):\n",
    "    def recall(y_true, y_pred):\n",
    "        \"\"\"Recall metric.\n",
    "\n",
    "        Only computes a batch-wise average of recall.\n",
    "\n",
    "        Computes the recall, a metric for multi-label classification of\n",
    "        how many relevant items are selected.\n",
    "        \"\"\"\n",
    "        true_positives = K.sum(K.round(K.clip(y_true * y_pred, 0, 1)))\n",
    "        possible_positives = K.sum(K.round(K.clip(y_true, 0, 1)))\n",
    "        recall = true_positives / (possible_positives + K.epsilon())\n",
    "        return recall\n",
    "\n",
    "    def precision(y_true, y_pred):\n",
    "        \"\"\"Precision metric.\n",
    "\n",
    "        Only computes a batch-wise average of precision.\n",
    "\n",
    "        Computes the precision, a metric for multi-label classification of\n",
    "        how many selected items are relevant.\n",
    "        \"\"\"\n",
    "        true_positives = K.sum(K.round(K.clip(y_true * y_pred, 0, 1)))\n",
    "        predicted_positives = K.sum(K.round(K.clip(y_pred, 0, 1)))\n",
    "        precision = true_positives / (predicted_positives + K.epsilon())\n",
    "        return precision\n",
    "\n",
    "    precision = precision(y_true, y_pred)\n",
    "    recall = recall(y_true, y_pred)\n",
    "    return 2 * ((precision * recall) / (precision + recall + K.epsilon()))\n"
   ]
  },
  {
   "cell_type": "code",
   "execution_count": 8,
   "metadata": {},
   "outputs": [],
   "source": [
    "from keras.preprocessing.text import Tokenizer\n",
    "from keras.preprocessing.sequence import pad_sequences\n",
    "\n",
    "# Высота матрицы (максимальное количество слов в твите)\n",
    "SENTENCE_LENGTH = 26\n",
    "# Размер словаря\n",
    "NUM = 100000\n",
    "\n",
    "def get_sequences(tokenizer, x):\n",
    "    sequences = tokenizer.texts_to_sequences(x)\n",
    "    return pad_sequences(sequences, maxlen=SENTENCE_LENGTH)\n",
    "\n",
    "# Cоздаем и обучаем токенизатор\n",
    "tokenizer = Tokenizer(num_words=NUM)\n",
    "tokenizer.fit_on_texts(x_train)\n",
    "\n",
    "# Отображаем каждый текст в массив идентификаторов токенов\n",
    "x_train_seq = get_sequences(tokenizer, x_train)\n",
    "x_test_seq = get_sequences(tokenizer, x_test)"
   ]
  },
  {
   "cell_type": "code",
   "execution_count": 9,
   "metadata": {},
   "outputs": [],
   "source": [
    "from gensim.models import Word2Vec\n",
    "# Загружаем обученную модель\n",
    "w2v_model = Word2Vec.load('tweets_model.w2v')\n",
    "DIM = w2v_model.vector_size \n",
    "# Инициализируем матрицу embedding слоя нулями\n",
    "embedding_matrix = np.zeros((NUM, DIM))\n",
    "# Добавляем NUM=100000 наиболее часто встречающихся слов из обучающей выборки в embedding слой\n",
    "for word, i in tokenizer.word_index.items():\n",
    "    if i >= NUM:\n",
    "        break\n",
    "    if word in w2v_model.wv.vocab.keys():\n",
    "        embedding_matrix[i] = w2v_model.wv[word]"
   ]
  },
  {
   "cell_type": "markdown",
   "metadata": {},
   "source": [
    "2 варианта LSTM модели. Вторая показала себя немного лучше"
   ]
  },
  {
   "cell_type": "code",
   "execution_count": 13,
   "metadata": {},
   "outputs": [
    {
     "name": "stdout",
     "output_type": "stream",
     "text": [
      "Model: \"sequential_2\"\n",
      "_________________________________________________________________\n",
      "Layer (type)                 Output Shape              Param #   \n",
      "=================================================================\n",
      "embedding_3 (Embedding)      (None, 26, 200)           20000000  \n",
      "_________________________________________________________________\n",
      "spatial_dropout1d_2 (Spatial (None, 26, 200)           0         \n",
      "_________________________________________________________________\n",
      "bidirectional_2 (Bidirection (None, 392)               622496    \n",
      "_________________________________________________________________\n",
      "dense_2 (Dense)              (None, 1)                 393       \n",
      "=================================================================\n",
      "Total params: 20,622,889\n",
      "Trainable params: 622,889\n",
      "Non-trainable params: 20,000,000\n",
      "_________________________________________________________________\n",
      "None\n"
     ]
    }
   ],
   "source": [
    "#from keras.models import Sequential \n",
    "#from keras.layers import Dense, Embedding, LSTM, SpatialDropout1D, Bidirectional\n",
    "#from sklearn.model_selection import train_test_split\n",
    "#from keras.utils.np_utils import to_categorical\n",
    "\n",
    "\n",
    "#model = Sequential()\n",
    "#model.add(Embedding(NUM, DIM,input_length  = SENTENCE_LENGTH, weights=[embedding_matrix], trainable=False))\n",
    "#model.add(SpatialDropout1D(0.4))\n",
    "#model.add(Bidirectional(LSTM(196, dropout=0.2, recurrent_dropout=0.2)))\n",
    "#model.add(Dense(1,activation='sigmoid'))\n",
    "#model.compile(loss = 'binary_crossentropy', optimizer='adam',metrics= ['accuracy',precision, recall, f1])\n",
    "#print(model.summary())"
   ]
  },
  {
   "cell_type": "code",
   "execution_count": 16,
   "metadata": {},
   "outputs": [],
   "source": [
    "from keras.layers import Input\n",
    "from keras.layers.embeddings import Embedding\n",
    "from keras.layers import Dense, concatenate, Activation, Dropout\n",
    "from keras.models import Model\n",
    "\n",
    "tweet_input = Input(shape=(SENTENCE_LENGTH,), dtype='int32')\n",
    "tweet_encoder = Embedding(NUM, DIM, input_length=SENTENCE_LENGTH,\n",
    "                          weights=[embedding_matrix], trainable=False)(tweet_input)\n",
    "layer = LSTM(64)(tweet_encoder)\n",
    "layer = Dense(256,name='FC1')(layer)\n",
    "layer = Activation('relu')(layer)\n",
    "layer = Dropout(0.5)(layer)\n",
    "layer = Dense(1,name='out_layer')(layer)\n",
    "layer = Activation('sigmoid')(layer)\n",
    "model = Model(tweet_input,outputs=layer)"
   ]
  },
  {
   "cell_type": "code",
   "execution_count": 17,
   "metadata": {},
   "outputs": [
    {
     "name": "stdout",
     "output_type": "stream",
     "text": [
      "Model: \"model_2\"\n",
      "_________________________________________________________________\n",
      "Layer (type)                 Output Shape              Param #   \n",
      "=================================================================\n",
      "input_2 (InputLayer)         (None, 26)                0         \n",
      "_________________________________________________________________\n",
      "embedding_4 (Embedding)      (None, 26, 200)           20000000  \n",
      "_________________________________________________________________\n",
      "lstm_4 (LSTM)                (None, 64)                67840     \n",
      "_________________________________________________________________\n",
      "FC1 (Dense)                  (None, 256)               16640     \n",
      "_________________________________________________________________\n",
      "activation_3 (Activation)    (None, 256)               0         \n",
      "_________________________________________________________________\n",
      "dropout_2 (Dropout)          (None, 256)               0         \n",
      "_________________________________________________________________\n",
      "out_layer (Dense)            (None, 1)                 257       \n",
      "_________________________________________________________________\n",
      "activation_4 (Activation)    (None, 1)                 0         \n",
      "=================================================================\n",
      "Total params: 20,084,737\n",
      "Trainable params: 84,737\n",
      "Non-trainable params: 20,000,000\n",
      "_________________________________________________________________\n"
     ]
    }
   ],
   "source": [
    "model.compile(loss='binary_crossentropy', optimizer='adam', metrics=['accuracy', precision, recall, f1])\n",
    "model.summary() # Модель с замороженными emdedding слоям"
   ]
  },
  {
   "cell_type": "code",
   "execution_count": 18,
   "metadata": {},
   "outputs": [
    {
     "name": "stdout",
     "output_type": "stream",
     "text": [
      "Train on 134307 samples, validate on 44769 samples\n",
      "Epoch 1/7\n",
      "134307/134307 [==============================] - 37s 278us/step - loss: 0.3369 - accuracy: 0.8300 - precision: 0.8324 - recall: 0.8297 - f1: 0.8251 - val_loss: 0.3157 - val_accuracy: 0.8409 - val_precision: 0.8581 - val_recall: 0.8188 - val_f1: 0.8332\n",
      "Epoch 2/7\n",
      "134307/134307 [==============================] - 37s 273us/step - loss: 0.2954 - accuracy: 0.8554 - precision: 0.8547 - recall: 0.8581 - f1: 0.8518 - val_loss: 0.3154 - val_accuracy: 0.8425 - val_precision: 0.8922 - val_recall: 0.7821 - val_f1: 0.8284\n",
      "Epoch 3/7\n",
      "134307/134307 [==============================] - 37s 274us/step - loss: 0.2738 - accuracy: 0.8682 - precision: 0.8684 - recall: 0.8681 - f1: 0.8640 - val_loss: 0.3107 - val_accuracy: 0.8513 - val_precision: 0.8630 - val_recall: 0.8379 - val_f1: 0.8458\n",
      "Epoch 4/7\n",
      "134307/134307 [==============================] - 37s 278us/step - loss: 0.2521 - accuracy: 0.8807 - precision: 0.8819 - recall: 0.8797 - f1: 0.8772 - val_loss: 0.3166 - val_accuracy: 0.8501 - val_precision: 0.8593 - val_recall: 0.8402 - val_f1: 0.8453\n",
      "Epoch 5/7\n",
      "134307/134307 [==============================] - 35s 262us/step - loss: 0.2310 - accuracy: 0.8916 - precision: 0.8925 - recall: 0.8906 - f1: 0.8882 - val_loss: 0.3326 - val_accuracy: 0.8502 - val_precision: 0.8434 - val_recall: 0.8632 - val_f1: 0.8490\n",
      "Epoch 6/7\n",
      "134307/134307 [==============================] - 35s 264us/step - loss: 0.2120 - accuracy: 0.9019 - precision: 0.9034 - recall: 0.8998 - f1: 0.8985 - val_loss: 0.3420 - val_accuracy: 0.8467 - val_precision: 0.8517 - val_recall: 0.8432 - val_f1: 0.8430\n",
      "Epoch 7/7\n",
      "134307/134307 [==============================] - 36s 272us/step - loss: 0.1934 - accuracy: 0.9102 - precision: 0.9109 - recall: 0.9092 - f1: 0.9071 - val_loss: 0.3914 - val_accuracy: 0.8415 - val_precision: 0.8785 - val_recall: 0.7956 - val_f1: 0.8301\n"
     ]
    }
   ],
   "source": [
    "from keras.callbacks import ModelCheckpoint\n",
    "\n",
    "checkpoint = ModelCheckpoint(\"LSTM-frozen-embeddings-{epoch:02d}-{val_f1:.2f}.hdf5\", \n",
    "                             monitor='val_f1', save_best_only=True, mode='max', period=1)\n",
    "\n",
    "history = model.fit(x_train_seq, y_train, epochs = 7, batch_size=32,validation_split=0.25, callbacks = [checkpoint])"
   ]
  },
  {
   "cell_type": "code",
   "execution_count": 19,
   "metadata": {},
   "outputs": [
    {
     "data": {
      "image/png": "[encoded data removed]",
      "text/plain": [
       "<Figure size 1152x648 with 4 Axes>"
      ]
     },
     "metadata": {},
     "output_type": "display_data"
    }
   ],
   "source": [
    "import numpy as np\n",
    "import matplotlib.pyplot as plt\n",
    "\n",
    "plt.style.use('ggplot')\n",
    "\n",
    "\n",
    "def plot_metrix(ax, x1, x2, title):\n",
    "    ax.plot(range(1, len(x1) + 1), x1, label='train')\n",
    "    ax.plot(range(1, len(x2) + 1), x2, label='val')\n",
    "    ax.set_ylabel(title)\n",
    "    ax.set_xlabel('Epoch')\n",
    "    ax.legend()\n",
    "    ax.margins(0)\n",
    "\n",
    "\n",
    "def plot_history(history):\n",
    "    fig, axes = plt.subplots(ncols=2, nrows=2, figsize=(16, 9))\n",
    "    ax1, ax2, ax3, ax4 = axes.ravel()\n",
    "\n",
    "    plot_metrix(ax1, history.history['precision'], history.history['val_precision'], 'Precision')\n",
    "    plot_metrix(ax2, history.history['recall'], history.history['val_recall'], 'Recall')\n",
    "    plot_metrix(ax3, history.history['f1'], history.history['val_f1'], \"$F_1$\")\n",
    "    plot_metrix(ax4, history.history['loss'], history.history['val_loss'], 'Loss')\n",
    "\n",
    "    plt.show()\n",
    "\n",
    "\n",
    "plot_history(history)"
   ]
  },
  {
   "cell_type": "code",
   "execution_count": 20,
   "metadata": {},
   "outputs": [],
   "source": [
    "model.load_weights('LSTM-frozen-embeddings-05-0.85.hdf5')"
   ]
  },
  {
   "cell_type": "code",
   "execution_count": 21,
   "metadata": {},
   "outputs": [
    {
     "name": "stdout",
     "output_type": "stream",
     "text": [
      "              precision    recall  f1-score   support\n",
      "\n",
      "           0    0.85812   0.83974   0.84883     22457\n",
      "           1    0.84211   0.86026   0.85109     22313\n",
      "\n",
      "    accuracy                        0.84997     44770\n",
      "   macro avg    0.85011   0.85000   0.84996     44770\n",
      "weighted avg    0.85014   0.84997   0.84995     44770\n",
      "\n"
     ]
    }
   ],
   "source": [
    "from sklearn.metrics import classification_report\n",
    "\n",
    "predicted = np.round(model.predict(x_test_seq))\n",
    "print(classification_report(y_test, predicted, digits=5))"
   ]
  },
  {
   "cell_type": "code",
   "execution_count": 22,
   "metadata": {},
   "outputs": [
    {
     "name": "stdout",
     "output_type": "stream",
     "text": [
      "Model: \"model_2\"\n",
      "_________________________________________________________________\n",
      "Layer (type)                 Output Shape              Param #   \n",
      "=================================================================\n",
      "input_2 (InputLayer)         (None, 26)                0         \n",
      "_________________________________________________________________\n",
      "embedding_4 (Embedding)      (None, 26, 200)           20000000  \n",
      "_________________________________________________________________\n",
      "lstm_4 (LSTM)                (None, 64)                67840     \n",
      "_________________________________________________________________\n",
      "FC1 (Dense)                  (None, 256)               16640     \n",
      "_________________________________________________________________\n",
      "activation_3 (Activation)    (None, 256)               0         \n",
      "_________________________________________________________________\n",
      "dropout_2 (Dropout)          (None, 256)               0         \n",
      "_________________________________________________________________\n",
      "out_layer (Dense)            (None, 1)                 257       \n",
      "_________________________________________________________________\n",
      "activation_4 (Activation)    (None, 1)                 0         \n",
      "=================================================================\n",
      "Total params: 20,084,737\n",
      "Trainable params: 20,084,737\n",
      "Non-trainable params: 0\n",
      "_________________________________________________________________\n"
     ]
    }
   ],
   "source": [
    "from keras import optimizers\n",
    "\n",
    "model.layers[1].trainable = True\n",
    "adam = optimizers.Adam(lr=0.0001)\n",
    "model.compile(loss='binary_crossentropy', optimizer=adam, metrics=['accuracy', precision, recall, f1])\n",
    "model.summary()# Модель с размороженными emdedding слоям"
   ]
  },
  {
   "cell_type": "code",
   "execution_count": 23,
   "metadata": {},
   "outputs": [
    {
     "name": "stderr",
     "output_type": "stream",
     "text": [
      "C:\\Users\\Nikita Khoriakov\\Anaconda3\\lib\\site-packages\\tensorflow\\python\\framework\\indexed_slices.py:434: UserWarning: Converting sparse IndexedSlices to a dense Tensor of unknown shape. This may consume a large amount of memory.\n",
      "  \"Converting sparse IndexedSlices to a dense Tensor of unknown shape. \"\n"
     ]
    },
    {
     "name": "stdout",
     "output_type": "stream",
     "text": [
      "Train on 134307 samples, validate on 44769 samples\n",
      "Epoch 1/5\n",
      "134307/134307 [==============================] - 933s 7ms/step - loss: 0.1799 - accuracy: 0.9183 - precision: 0.9179 - recall: 0.9187 - f1: 0.9158 - val_loss: 0.3778 - val_accuracy: 0.8504 - val_precision: 0.8602 - val_recall: 0.8403 - val_f1: 0.8456\n",
      "Epoch 2/5\n",
      "134307/134307 [==============================] - 930s 7ms/step - loss: 0.1504 - accuracy: 0.9329 - precision: 0.9335 - recall: 0.9321 - f1: 0.9307 - val_loss: 0.4160 - val_accuracy: 0.8496 - val_precision: 0.8542 - val_recall: 0.8466 - val_f1: 0.8459\n",
      "Epoch 3/5\n",
      "134307/134307 [==============================] - 920s 7ms/step - loss: 0.1276 - accuracy: 0.9442 - precision: 0.9443 - recall: 0.9442 - f1: 0.9425 - val_loss: 0.4567 - val_accuracy: 0.8488 - val_precision: 0.8553 - val_recall: 0.8433 - val_f1: 0.8448\n",
      "Epoch 4/5\n",
      "134307/134307 [==============================] - 913s 7ms/step - loss: 0.1072 - accuracy: 0.9539 - precision: 0.9543 - recall: 0.9534 - f1: 0.9524 - val_loss: 0.5099 - val_accuracy: 0.8484 - val_precision: 0.8556 - val_recall: 0.8416 - val_f1: 0.8442\n",
      "Epoch 5/5\n",
      "134307/134307 [==============================] - 914s 7ms/step - loss: 0.0888 - accuracy: 0.9627 - precision: 0.9624 - recall: 0.9622 - f1: 0.9611 - val_loss: 0.5732 - val_accuracy: 0.8482 - val_precision: 0.8515 - val_recall: 0.8469 - val_f1: 0.8448\n"
     ]
    }
   ],
   "source": [
    "checkpoint = ModelCheckpoint(\"LSTM-trainable-{epoch:02d}-{val_f1:.2f}.hdf5\", \n",
    "                             monitor='val_f1', save_best_only=True, mode='max', period=1)\n",
    "\n",
    "history_trainable = model.fit(x_train_seq, y_train, batch_size=32, epochs=5, validation_split=0.25, callbacks = [checkpoint])"
   ]
  },
  {
   "cell_type": "code",
   "execution_count": 24,
   "metadata": {},
   "outputs": [],
   "source": [
    "model.load_weights('LSTM-trainable-02-0.85.hdf5')"
   ]
  },
  {
   "cell_type": "code",
   "execution_count": 25,
   "metadata": {},
   "outputs": [
    {
     "name": "stdout",
     "output_type": "stream",
     "text": [
      "              precision    recall  f1-score   support\n",
      "\n",
      "           0    0.84956   0.85323   0.85139     22457\n",
      "           1    0.85164   0.84794   0.84978     22313\n",
      "\n",
      "    accuracy                        0.85059     44770\n",
      "   macro avg    0.85060   0.85058   0.85059     44770\n",
      "weighted avg    0.85060   0.85059   0.85059     44770\n",
      "\n"
     ]
    }
   ],
   "source": [
    "predicted = np.round(model.predict(x_test_seq))\n",
    "print(classification_report(y_test, predicted, digits=5))"
   ]
  },
  {
   "cell_type": "code",
   "execution_count": null,
   "metadata": {},
   "outputs": [],
   "source": []
  }
 ],
 "metadata": {
  "kernelspec": {
   "display_name": "Python 3",
   "language": "python",
   "name": "python3"
  },
  "language_info": {
   "codemirror_mode": {
    "name": "ipython",
    "version": 3
   },
   "file_extension": ".py",
   "mimetype": "text/x-python",
   "name": "python",
   "nbconvert_exporter": "python",
   "pygments_lexer": "ipython3",
   "version": "3.7.3"
  }
 },
 "nbformat": 4,
 "nbformat_minor": 4
}
